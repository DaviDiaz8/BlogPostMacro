{
  "nbformat": 4,
  "nbformat_minor": 0,
  "metadata": {
    "colab": {
      "provenance": []
    },
    "kernelspec": {
      "name": "ir",
      "display_name": "R"
    },
    "language_info": {
      "name": "R"
    }
  },
  "cells": [
    {
      "cell_type": "code",
      "source": [
        "from google.colab import drive\n",
        "drive.mount('/content/drive')"
      ],
      "metadata": {
        "colab": {
          "base_uri": "https://localhost:8080/"
        },
        "id": "Hxwddblt4c4E",
        "outputId": "75dd2fc3-8563-4440-86f7-3190df974528"
      },
      "execution_count": 2,
      "outputs": [
        {
          "output_type": "stream",
          "name": "stdout",
          "text": [
            "Mounted at /content/drive\n"
          ]
        }
      ]
    },
    {
      "cell_type": "code",
      "execution_count": 1,
      "metadata": {
        "colab": {
          "base_uri": "https://localhost:8080/"
        },
        "id": "NC8yY8DeviV6",
        "outputId": "8f95dab7-7eeb-4c15-ff19-4441627b5482"
      },
      "outputs": [
        {
          "output_type": "stream",
          "name": "stderr",
          "text": [
            "Installing packages into ‘/usr/local/lib/R/site-library’\n",
            "(as ‘lib’ is unspecified)\n",
            "\n",
            "Warning message:\n",
            "“package ‘parallel’ is a base package, and should not be updated”\n"
          ]
        }
      ],
      "source": [
        "#Instala los paquetes necesarios en tu entorno R de Colab\n",
        "\n",
        "install.packages(c(\n",
        "  \"snow\",\n",
        "  \"deSolve\",\n",
        "  \"optimx\",\n",
        "  \"reshape2\",\n",
        "  \"data.table\",\n",
        "  \"parallel\"\n",
        "), repos = \"https://cloud.r-project.org/\")"
      ]
    },
    {
      "cell_type": "code",
      "source": [
        "install.packages(\"lhs\", repos = \"https://cloud.r-project.org/\")"
      ],
      "metadata": {
        "colab": {
          "base_uri": "https://localhost:8080/"
        },
        "id": "F3iWektl8wuz",
        "outputId": "3ff71315-ce12-4462-ba0d-9373b11a1306"
      },
      "execution_count": 6,
      "outputs": [
        {
          "output_type": "stream",
          "name": "stderr",
          "text": [
            "Installing package into ‘/usr/local/lib/R/site-library’\n",
            "(as ‘lib’ is unspecified)\n",
            "\n"
          ]
        }
      ]
    },
    {
      "cell_type": "code",
      "source": [
        "list.files(\"/content/drive/MyDrive/BlogPostMacro\")"
      ],
      "metadata": {
        "colab": {
          "base_uri": "https://localhost:8080/",
          "height": 86
        },
        "id": "YrTVhet-3V4F",
        "outputId": "161947fe-ce1e-4c6e-c444-a63d9a131d85"
      },
      "execution_count": 2,
      "outputs": [
        {
          "output_type": "display_data",
          "data": {
            "text/html": [
              "<style>\n",
              ".list-inline {list-style: none; margin:0; padding: 0}\n",
              ".list-inline>li {display: inline-block}\n",
              ".list-inline>li:not(:last-child)::after {content: \"\\00b7\"; padding: 0 .5ex}\n",
              "</style>\n",
              "<ol class=list-inline><li>'Acemoglu-2012-The Environment and.pdf'</li><li>'Climate_Change_Paper.pptx'</li><li>'Climate.csv'</li><li>'ClimateCalibration.r'</li><li>'create_experiment_function.r'</li><li>'Ediam_vFrontiers.r'</li><li>'Exp.design_P0.csv'</li><li>'Exp.design_P1.csv'</li><li>'Exp.design_P2.csv'</li><li>'Exp.design_P3.csv'</li><li>'Exp.design_P4.csv'</li><li>'Exp.design_P5.csv'</li><li>'Exp.design_P6.csv'</li><li>'Exp.design_P7.csv'</li><li>'Exp.design_P8.csv'</li><li>'Exp.design.csv'</li><li>'frobt-07-00111.pdf'</li><li>'harness_processing.r'</li><li>'Limits_original.csv'</li><li>'main_calib.r'</li><li>'Main_vFrontiers.r'</li><li>'Model Descriptionv12.pdf'</li><li>'Policies.csv'</li><li>'sdprim_vFrontiers.r'</li></ol>\n"
            ],
            "text/markdown": "1. 'Acemoglu-2012-The Environment and.pdf'\n2. 'Climate_Change_Paper.pptx'\n3. 'Climate.csv'\n4. 'ClimateCalibration.r'\n5. 'create_experiment_function.r'\n6. 'Ediam_vFrontiers.r'\n7. 'Exp.design_P0.csv'\n8. 'Exp.design_P1.csv'\n9. 'Exp.design_P2.csv'\n10. 'Exp.design_P3.csv'\n11. 'Exp.design_P4.csv'\n12. 'Exp.design_P5.csv'\n13. 'Exp.design_P6.csv'\n14. 'Exp.design_P7.csv'\n15. 'Exp.design_P8.csv'\n16. 'Exp.design.csv'\n17. 'frobt-07-00111.pdf'\n18. 'harness_processing.r'\n19. 'Limits_original.csv'\n20. 'main_calib.r'\n21. 'Main_vFrontiers.r'\n22. 'Model Descriptionv12.pdf'\n23. 'Policies.csv'\n24. 'sdprim_vFrontiers.r'\n\n\n",
            "text/latex": "\\begin{enumerate*}\n\\item 'Acemoglu-2012-The Environment and.pdf'\n\\item 'Climate\\_Change\\_Paper.pptx'\n\\item 'Climate.csv'\n\\item 'ClimateCalibration.r'\n\\item 'create\\_experiment\\_function.r'\n\\item 'Ediam\\_vFrontiers.r'\n\\item 'Exp.design\\_P0.csv'\n\\item 'Exp.design\\_P1.csv'\n\\item 'Exp.design\\_P2.csv'\n\\item 'Exp.design\\_P3.csv'\n\\item 'Exp.design\\_P4.csv'\n\\item 'Exp.design\\_P5.csv'\n\\item 'Exp.design\\_P6.csv'\n\\item 'Exp.design\\_P7.csv'\n\\item 'Exp.design\\_P8.csv'\n\\item 'Exp.design.csv'\n\\item 'frobt-07-00111.pdf'\n\\item 'harness\\_processing.r'\n\\item 'Limits\\_original.csv'\n\\item 'main\\_calib.r'\n\\item 'Main\\_vFrontiers.r'\n\\item 'Model Descriptionv12.pdf'\n\\item 'Policies.csv'\n\\item 'sdprim\\_vFrontiers.r'\n\\end{enumerate*}\n",
            "text/plain": [
              " [1] \"Acemoglu-2012-The Environment and.pdf\"\n",
              " [2] \"Climate_Change_Paper.pptx\"            \n",
              " [3] \"Climate.csv\"                          \n",
              " [4] \"ClimateCalibration.r\"                 \n",
              " [5] \"create_experiment_function.r\"         \n",
              " [6] \"Ediam_vFrontiers.r\"                   \n",
              " [7] \"Exp.design_P0.csv\"                    \n",
              " [8] \"Exp.design_P1.csv\"                    \n",
              " [9] \"Exp.design_P2.csv\"                    \n",
              "[10] \"Exp.design_P3.csv\"                    \n",
              "[11] \"Exp.design_P4.csv\"                    \n",
              "[12] \"Exp.design_P5.csv\"                    \n",
              "[13] \"Exp.design_P6.csv\"                    \n",
              "[14] \"Exp.design_P7.csv\"                    \n",
              "[15] \"Exp.design_P8.csv\"                    \n",
              "[16] \"Exp.design.csv\"                       \n",
              "[17] \"frobt-07-00111.pdf\"                   \n",
              "[18] \"harness_processing.r\"                 \n",
              "[19] \"Limits_original.csv\"                  \n",
              "[20] \"main_calib.r\"                         \n",
              "[21] \"Main_vFrontiers.r\"                    \n",
              "[22] \"Model Descriptionv12.pdf\"             \n",
              "[23] \"Policies.csv\"                         \n",
              "[24] \"sdprim_vFrontiers.r\"                  "
            ]
          },
          "metadata": {}
        }
      ]
    },
    {
      "cell_type": "code",
      "source": [
        "# Define switches apagados para pruebas rápidas\n",
        "Policy.Switch <- FALSE\n",
        "Climate.Switch <- FALSE"
      ],
      "metadata": {
        "id": "oeSk17cVQ4YX"
      },
      "execution_count": 20,
      "outputs": []
    },
    {
      "cell_type": "code",
      "source": [
        "TechChangeMod<-function (policies,params){\n",
        "#Simulation length, time step and Run.ID\n",
        " Run.ID <- as.numeric(params['Run.ID'])\n",
        " EndTime <- as.numeric(params['EndTime'])\n",
        " TimeStep <- as.numeric(params['TimeStep'])\n",
        "#Determine policy parameters\n",
        "#lists of policies\n",
        "#P0.FWA\n",
        "#P1.Nordhaus\n",
        "#P2.Nordhauds+TechnologyPolicy\n",
        "   #P2.1.\"Nordhaus+TechnologyPolicy.Both\"\n",
        "#P3.Nordhaus+TraditionalGreenClimateFund\n",
        "   #P3.1.\"Nordhaus+TraditionalGreenClimateFund+R&DS\"\n",
        "   #P3.2.\"Nordhaus+CoR&DGreenClimateFund\"\n",
        "   #P3.3.\"Nordhaus+CoR&DGreenClimateFund+TecS\"\n",
        "#P4.Nordhaus+R&DGreenClimateFund\n",
        " policy.vector<-c(\n",
        "    #Start time of policies\n",
        "\tpolicy.start.time = 0.033,\n",
        "\t#Duration of policies\n",
        "\t#policy.duration=signif(as.numeric(policies[2]), digits = 2),\n",
        "    #carbon tax\n",
        "\t tax.rate.N=signif(as.numeric(policies[1]), digits = 2),\n",
        "     tax.rate.S=ifelse(as.character(params['policy.name'])%in%c(\"Nordhaus\",\"Nordhauds+TechnologyPolicy\",\"Nordhaus+TechnologyPolicy.Both\"),signif(as.numeric(policies[2]), digits = 2),signif(as.numeric(policies[1]), digits = 2)),\n",
        "    #Technology push in North\n",
        "\t epsi.re.subsidy.N = ifelse(as.character(params['policy.name'])%in%c(\"Nordhauds+TechnologyPolicy\",\"Nordhaus+TechnologyPolicy.Both\"),signif(as.numeric(policies[3]), digits = 2),\n",
        "\t                     ifelse(as.character(params['policy.name'])%in%c(\"Nordhaus+TraditionalGreenClimateFund\",\"Nordhaus+R&DGreenClimateFund\",\n",
        "\t                                                                     \"Nordhaus+TraditionalGreenClimateFund+R&DS\",\"Nordhaus+CoR&DGreenClimateFund\",\n",
        "\t\t\t\t\t\t\t\t\t\t\t\t\t\t\t\t\t\t \"Nordhaus+CoR&DGreenClimateFund+TecS\")==TRUE,signif(as.numeric(policies[2]), digits = 2),0)),\n",
        "\n",
        "\t s.re.subsidy.N = ifelse(as.character(params['policy.name'])%in%c(\"Nordhauds+TechnologyPolicy\",\"Nordhaus+TechnologyPolicy.Both\"),signif(as.numeric(policies[4]), digits = 2),\n",
        "\t                  ifelse(as.character(params['policy.name'])%in%c(\"Nordhaus+TraditionalGreenClimateFund\",\"Nordhaus+R&DGreenClimateFund\",\n",
        "\t                                                                     \"Nordhaus+TraditionalGreenClimateFund+R&DS\",\"Nordhaus+CoR&DGreenClimateFund\",\n",
        "\t\t\t\t\t\t\t\t\t\t\t\t\t\t\t\t\t\t \"Nordhaus+CoR&DGreenClimateFund+TecS\")==TRUE,signif(as.numeric(policies[3]), digits = 2),0)),\n",
        "    #Traditional Green Climate Fund\n",
        "\t epsi.re.subsidy.S = ifelse(as.character(params['policy.name'])%in%c(\"Nordhaus+TechnologyPolicy.Both\")==TRUE,signif(as.numeric(policies[5]), digits = 2),\n",
        "\t                     ifelse(as.character(params['policy.name'])%in%c(\"Nordhaus+TraditionalGreenClimateFund\",\"Nordhaus+R&DGreenClimateFund\",\n",
        "\t\t\t\t\t\t                                                 \"Nordhaus+TraditionalGreenClimateFund+R&DS\",\"Nordhaus+CoR&DGreenClimateFund+TecS\")==TRUE,signif(as.numeric(policies[4]), digits = 2),0)),\n",
        "\t epsi.re.GFsubsidy.N = ifelse(as.character(params['policy.name'])%in%c(\"Nordhaus+TraditionalGreenClimateFund\",\"Nordhaus+R&DGreenClimateFund\",\"Nordhaus+TraditionalGreenClimateFund+R&DS\")==TRUE,signif(as.numeric(policies[4]), digits = 2),0),\n",
        "\n",
        "\t# R&D Green Climate Fund\n",
        "\t s.re.subsidy.S = ifelse(as.character(params['policy.name'])%in%c(\"Nordhaus+TechnologyPolicy.Both\")==TRUE,signif(as.numeric(policies[6]), digits = 2),\n",
        "\t                  ifelse(as.character(params['policy.name'])%in%c(\"Nordhaus+CoR&DGreenClimateFund\")==TRUE,signif(as.numeric(policies[4]), digits = 2),\n",
        "\t                  ifelse(as.character(params['policy.name'])%in%c(\"Nordhaus+CoR&DGreenClimateFund+TecS\",\"Nordhaus+TraditionalGreenClimateFund+R&DS\",\"Nordhaus+R&DGreenClimateFund\")==TRUE,signif(as.numeric(policies[5]),digits = 2),0))),\n",
        "\t s.re.GFsubsidy.N = ifelse(as.character(params['policy.name'])%in%c(\"Nordhaus+CoR&DGreenClimateFund\"),signif(as.numeric(policies[4]), digits = 2),\n",
        "\t                    ifelse(as.character(params['policy.name'])%in%c(\"Nordhaus+CoR&DGreenClimateFund+TecS\",\"Nordhaus+R&DGreenClimateFund\")==TRUE,signif(as.numeric(policies[5]), digits = 2),0)))\n",
        "\n",
        "#Load parameters required for determining initial conditions\n",
        " alfa <- as.numeric(params['alfa'])\n",
        " epsilon <- as.numeric(params['epsilon'])\n",
        " size.factor<- as.numeric(params['size.factor'])\n",
        " Yre.N.0<-as.numeric(params['Yre.0_N'])\n",
        " Yce.N.0<-as.numeric(params['Yce.0_N'])\n",
        " Yre.S.0<-as.numeric(params['Yre.0_S'])\n",
        " Yce.S.0<-as.numeric(params['Yce.0_S'])\n",
        " S.0<-as.numeric(params['S.0'])\n",
        "\n",
        "\n",
        "#Initial Productivity conditions are determined by the initial levels of production of energy\n",
        "#In the Northern Region\n",
        "  Ace.N.0<-((Yce.N.0^((epsilon-1)/epsilon)+Yre.N.0^((epsilon-1)/epsilon))^(epsilon/(epsilon-1)))*(1+(Yce.N.0/Yre.N.0)^((1-epsilon)/epsilon))^(1/((1-alfa)*(1-epsilon)))\n",
        "  Are.N.0<-((Yce.N.0^((epsilon-1)/epsilon)+Yre.N.0^((epsilon-1)/epsilon))^(epsilon/(epsilon-1)))*(1+(Yre.N.0/Yce.N.0)^((1-epsilon)/epsilon))^(1/((1-alfa)*(1-epsilon)))\n",
        "\n",
        "#In the Southern Region\n",
        "  Ace.S.0<-(1/size.factor)*((Yce.S.0^((epsilon-1)/epsilon)+Yre.S.0^((epsilon-1)/epsilon))^(epsilon/(epsilon-1)))*(1+(Yce.S.0/Yre.S.0)^((1-epsilon)/epsilon))^(1/((1-alfa)*(1-epsilon)))\n",
        "  Are.S.0<-(1/size.factor)*((Yce.S.0^((epsilon-1)/epsilon)+Yre.S.0^((epsilon-1)/epsilon))^(epsilon/(epsilon-1)))*(1+(Yre.S.0/Yce.S.0)^((1-epsilon)/epsilon))^(1/((1-alfa)*(1-epsilon)))\n",
        "\n",
        "InitialConditions <- c(Are.N = Are.N.0,\n",
        "                       Ace.N = Ace.N.0,\n",
        "\t\t\t\t\t   Are.S = Are.S.0,\n",
        "\t\t\t\t\t   Ace.S = Ace.S.0,\n",
        "\t\t\t\t\t   S = S.0)\n",
        "\n",
        "#Put all parameters together\n",
        "Parameters <- c(alfa = as.numeric(params['alfa']),\n",
        "                epsilon = as.numeric(params['epsilon']),\n",
        "                size.factor= as.numeric(params['size.factor']),\n",
        "                Gamma.re = as.numeric(params['Gamma.re']),\n",
        "                k.re = as.numeric(params['k.re']),\n",
        "                Gamma.ce = as.numeric(params['Gamma.ce']),\n",
        "                k.ce = as.numeric(params['k.ce']),\n",
        "                Eta.re= as.numeric(params['Eta.re']),\n",
        "                Eta.ce= as.numeric(params['Eta.ce']),\n",
        "                Nu.re = as.numeric(params['Nu.re']),\n",
        "                Nu.ce= as.numeric(params['Nu.ce']),\n",
        "                qsi=as.numeric(params['qsi']),\n",
        "                Delta.S = as.numeric(params['Delta.S']),\n",
        "\t\t\t\tDelta.Temp.Disaster = as.numeric(params['Delta.Temp.Disaster']),\n",
        "\t\t\t\tBeta.Delta.Temp = as.numeric(params['Beta.Delta.Temp']),\n",
        "\t\t\t\tCO2.base = as.numeric(params['CO2.base']),\n",
        "\t\t\t\tCO2.Disaster = as.numeric(params['CO2.Disaster']),\n",
        "\t\t\t\tlabor.growth.N = as.numeric(params['labor.growth_N']),\n",
        "\t\t\t\tlabor.growth.S = as.numeric(params['labor.growth_S']),\n",
        "\t\t\t\trho = as.numeric(params['rho']),\n",
        "\t\t\t\tlambda.S = as.numeric(params['lambda.S']),\n",
        "\t\t\t\tsigma.utility = as.numeric(params['sigma.utility']),\n",
        "                policy.vector)\n",
        "\n",
        "ModelEngine <- function(Time, State, Parameters) {\n",
        "  with(as.list(c(State, Parameters)), {\n",
        "\n",
        "  #Policy Instruments\n",
        "     #status of policy objectives\n",
        "\t  dS.lag<-ifelse(Time-1<=0,0,lagderiv(Time-1,5))\n",
        "\t  R.A.North<-ifelse(Time-1<=0,10,lagvalue(Time-1,2)/lagvalue(Time-1,1))\n",
        "\t  R.A.South<-ifelse(Time-1<=0,10,lagvalue(Time-1,4)/lagvalue(Time-1,3))\n",
        "\t  transition.th<-ifelse(epsilon<3,0.65,\n",
        "\t                 ifelse(epsilon<4,0.72,\n",
        "\t                 ifelse(epsilon<5,0.77,\n",
        "                     ifelse(epsilon<6,0.80,\n",
        "                     ifelse(epsilon<7,0.83,\n",
        "                     ifelse(epsilon<8,0.85,\n",
        "                     ifelse(epsilon<9,0.90,0.95)))))))\n",
        "\n",
        "\t  policy.status<-ifelse(Time>=policy.start.time*EndTime,\n",
        "\t                        ifelse(R.A.North>transition.th,1,\n",
        "\t\t\t\t\t\t\tifelse(R.A.South>transition.th,1,0)),0)\n",
        "\t #policies in the North\n",
        "\t  ce.tax.N<-ifelse(policy.status==1,tax.rate.N,0.0)\n",
        "      RD.subsidy.N<-ifelse(policy.status==1,s.re.subsidy.N,0.0)\n",
        "\t  RD.subsidy.GF.N<-ifelse(policy.status==1,s.re.GFsubsidy.N,0.0)\n",
        "\t  Tec.subsidy.N<-ifelse(policy.status==1,epsi.re.subsidy.N,0.0)\n",
        "\t  Tec.subsidy.GF.N<-ifelse(policy.status==1,epsi.re.GFsubsidy.N,0.0)\n",
        "\n",
        "\t #policies in the South\n",
        "\t  ce.tax.S<-ifelse(policy.status==1,tax.rate.S,0.0)\n",
        "      RD.subsidy.S<-ifelse(policy.status==1,s.re.subsidy.S,0.0)+RD.subsidy.GF.N\n",
        "\t  Tec.subsidy.S<-ifelse(policy.status==1,epsi.re.subsidy.S,0.0)+Tec.subsidy.GF.N\n",
        "\n",
        "  #Economic structure\n",
        "\t#Auxiliaries for both regions\n",
        "     Phi<-(1-alfa)*(1-epsilon)\n",
        "\t epsi.re<-alfa^2 #this is the cost of production of clean technologies\n",
        "     epsi.ce<-alfa^2 #this is the cost of production of dirty technologies\n",
        "\n",
        "\t#North Region\n",
        "\t#Auxiliaries in North\n",
        "     L.N<-exp(labor.growth.N*Time)\n",
        "\t Gamma.re.t.N<-Gamma.re*exp(-k.re*(Are.N/Are.N.0-1)) #gamma displays decreasing returns as in Stiligtz\n",
        "     Gamma.ce.t.N<-Gamma.ce*exp(-k.ce*(Ace.N/Ace.N.0-1)) #gamma displays decreasing returns as in Stiligtz\n",
        "\n",
        "    #First we determine the equilibrium levels of relative input prices and relative labor\n",
        "\t RelPrice.N<-((Ace.N/Are.N)^(1-alfa))*(((epsi.re*(1-Tec.subsidy.N))/epsi.ce)^alfa)\n",
        "     RelLabor.N<-((1+ce.tax.N)^epsilon)*((((1-Tec.subsidy.N)*epsi.re)/epsi.ce)^(alfa*(1-epsilon)))*((Are.N/Ace.N)^(-1*Phi))\n",
        "\n",
        "    #Second we determine the equilibrium conditions for each sector\n",
        "     #clean sector\n",
        "       Labor.re.N<-(RelLabor.N*L.N)/(1+RelLabor.N) #based on the assumption that Labor.re.N+Labor.ce.N=L.N\n",
        "\t   Price.re.N<-RelPrice.N/(RelPrice.N^(1-epsilon)+(1)^(1-epsilon))^(1/(1-epsilon)) #based on the assumption that  Price.re.N^(1-epsilon)+Price.ce.N^(1-epsilon)=1\n",
        "       Agg.demand.re.tech.N<-((((alfa^2)*Price.re.N)/((1-Tec.subsidy.N)*epsi.re))^(1/(1-alfa)))*Labor.re.N*Are.N\n",
        "       Profits.re.N<-(1+RD.subsidy.N)*Eta.re*epsi.re*((1-alfa)/alfa)*Agg.demand.re.tech.N # Expected profits see annex IV. Equilibrium research profits\n",
        "\t   Yre.N<-((((alfa^2)*Price.re.N)/((1-Tec.subsidy.N)*epsi.re))^(alfa/(1-alfa)))*Labor.re.N*Are.N\n",
        "\n",
        "     #dirty sector\n",
        "       Labor.ce.N<-L.N/(RelLabor.N+1)\n",
        "       Price.ce.N<-Price.re.N/RelPrice.N\n",
        "       Agg.demand.ce.tech.N<-((((alfa^2)*Price.ce.N)/(epsi.ce))^(1/(1-alfa)))*Labor.ce.N*Ace.N\n",
        "       Profits.ce.N<-Eta.ce*epsi.ce*((1-alfa)/alfa)*Agg.demand.ce.tech.N\n",
        "       Yce.N<-((((alfa^2)*Price.ce.N)/(epsi.ce))^(alfa/(1-alfa)))*Labor.ce.N*Ace.N\n",
        "\n",
        "     #Total Production\n",
        "      Y.N<-((Yre.N)^((epsilon-1)/epsilon)+(Yce.N)^((epsilon-1)/epsilon))^(epsilon/(epsilon-1))\n",
        "\n",
        "     #Allocation of Scientists\n",
        "      sre.N<-exp(Profits.re.N)/(exp(Profits.ce.N)+exp(Profits.re.N))\n",
        "      sce.N<-1-sre.N\n",
        "\n",
        "    #South Region\n",
        "\t#Auxiliaries in South\n",
        "\t L.S<-(exp(labor.growth.S*Time))*size.factor #the population of the South is 4.6 that of the North,\n",
        "   \t Gamma.re.t.S<-Gamma.re\n",
        "     Gamma.ce.t.S<-Gamma.ce\n",
        "\n",
        "    #First we determine the equilibrium levels of relative input prices and relative labour\n",
        "     RelPrice.S<-((Ace.S/Are.S)^(1-alfa))*(((epsi.re*(1-Tec.subsidy.S))/epsi.ce)^alfa)\n",
        "     RelLabor.S<-((1+ce.tax.S)^epsilon)*((((1-Tec.subsidy.S)*epsi.re)/epsi.ce)^(alfa*(1-epsilon)))*((Are.S/Ace.S)^(-1*Phi))\n",
        "\n",
        "    #Second we determine the equilibrium conditions for each sector\n",
        "     #clean sector\n",
        "       Labor.re.S<-(L.S*RelLabor.S)/(RelLabor.S+1) #based on the assumption that Labor.re.S+Labor.ce.S=L.S\n",
        "   \t   Price.re.S<-RelPrice.S/(RelPrice.S^(1-epsilon)+(1)^(1-epsilon))^(1/(1-epsilon)) #based on the assumption that  Price.re.S^(1-epsilon)+(Price.ce.S)^(1-epsilon)=1\n",
        "       Agg.demand.re.tech.S<-((((alfa^2)*Price.re.S)/((1-Tec.subsidy.S)*epsi.re))^(1/(1-alfa)))*Labor.re.S*Are.S\n",
        "       Profits.re.S<-(1+RD.subsidy.S)*Eta.re*epsi.re*((1-alfa)/alfa)*Agg.demand.re.tech.S # Expected profits see annex IV. Equilibrium research profits\n",
        "       Yre.S<-((((alfa^2)*Price.re.S)/((1-Tec.subsidy.S)*epsi.re))^(alfa/(1-alfa)))*Labor.re.S*Are.S\n",
        "\n",
        "     #dirty sector\n",
        "       Labor.ce.S<-L.S/(RelLabor.S+1)\n",
        "       Price.ce.S<-Price.re.S/RelPrice.S\n",
        "       Agg.demand.ce.tech.S<-((((alfa^2)*Price.ce.S)/(epsi.ce))^(1/(1-alfa)))*Labor.ce.S*Ace.S\n",
        "       Profits.ce.S<-Eta.ce*epsi.ce*((1-alfa)/alfa)*Agg.demand.ce.tech.S # Expected profits see annex IV. Equilibrium research profits\n",
        "       Yce.S<-((((alfa^2)*Price.ce.S)/(epsi.ce))^(alfa/(1-alfa)))*Labor.ce.S*Ace.S\n",
        "\n",
        "     #Total Production\n",
        "      Y.S<-((Yre.S)^((epsilon-1)/epsilon)+(Yce.S)^((epsilon-1)/epsilon))^(epsilon/(epsilon-1))\n",
        "\n",
        "     #Allocation of Scientists\n",
        "      sre.S<-exp(Profits.re.S)/(exp(Profits.ce.S)+exp(Profits.re.S))\n",
        "      sce.S<-1-sre.S\n",
        "\n",
        "\n",
        "   #Changes in Temperature\n",
        "      Delta.Temp.Disaster<-Delta.Temp.Disaster #increase in temperature at which there is environmental disaster\n",
        "      CO2.Concentration<-max(CO2.Disaster-S,CO2.base)\n",
        "      Delta.Temp<-min(Beta.Delta.Temp*log(CO2.Concentration/CO2.base),Delta.Temp.Disaster)\n",
        "\n",
        "   #Welfare Calculations\n",
        "\t Consumption.N<-Y.N-epsi.re*Agg.demand.re.tech.N-epsi.ce*Agg.demand.ce.tech.N\n",
        "     Consumption.S<-(Y.S-epsi.re*Agg.demand.re.tech.S-epsi.ce*Agg.demand.ce.tech.S)*(1/size.factor)\n",
        "     Cost.S.Damage<-((Delta.Temp.Disaster-Delta.Temp)^lambda.S-lambda.S*Delta.Temp.Disaster^(lambda.S-1)*(Delta.Temp.Disaster-Delta.Temp))/((1-lambda.S)*Delta.Temp.Disaster^lambda.S)\n",
        "\n",
        "\n",
        "\t#Budget restrictions\n",
        "\t Budget.function.N<-ce.tax.N*Price.ce.N*Yce.N-\n",
        "\t                                 Tec.subsidy.N*epsi.re*Agg.demand.re.tech.N - #including costs of technology subsidies\n",
        "\t\t\t\t\t\t\t\t\t Tec.subsidy.GF.N*epsi.re*Agg.demand.re.tech.S - #- #green climate fund costs of technology subsidies\n",
        "\t\t\t\t\t                 RD.subsidy.N*Eta.re*((epsi.re/alfa)-epsi.re)*Agg.demand.re.tech.N - #costs of research subsidies\n",
        "\t\t\t\t\t                 RD.subsidy.GF.N*Eta.re*((epsi.re/alfa)-epsi.re)*Agg.demand.re.tech.S #cost of green climate fund R&D subsidies\n",
        "\n",
        "\t Budget.function.S<-ce.tax.S*Price.ce.S*Yce.S-\n",
        "\t                                Tec.subsidy.S*epsi.re*Agg.demand.re.tech.S - #including costs of technology subsidies\n",
        "\t\t\t\t\t                RD.subsidy.S*Eta.re*((epsi.re/alfa)-epsi.re)*Agg.demand.re.tech.S  #costs of research subsidies\n",
        "\n",
        "   #State variables\n",
        "\n",
        "    #Evolution of Productivity North Region\n",
        "     dAre.N<-Gamma.re.t.N*Eta.re*sre.N*Are.N\n",
        "     dAce.N<-Gamma.ce.t.N*Eta.ce*sce.N*Ace.N\n",
        "\n",
        "    #Evolution of Productivity South Region\n",
        "     dAre.S<-Gamma.re.t.S*Nu.re*sre.S*(Are.N-Are.S)\n",
        "     dAce.S<-Gamma.ce.t.S*Nu.ce*sce.S*(Ace.N-Ace.S)\n",
        "\n",
        "    #Environmental Quality\n",
        "     dS<-min(1.0,Delta.S*S-qsi*(Yce.N+Yce.S))\n",
        "\n",
        "    # Placeholder antes de vars.out\n",
        "    Utility.Consumer.N <- NA\n",
        "    Utility.Consumer.S <- NA\n",
        "\n",
        "    #Define variables to output\n",
        "    vars.out<-list(c(dAre.N,dAce.N,dAre.S,dAce.S,dS),\n",
        "                 RelPrice_N = RelPrice.N,\n",
        "\t\t\t\t RelLabor_N = RelLabor.N,\n",
        "\t\t\t\t Labor.re_N = Labor.re.N,\n",
        "\t\t\t\t Price.re_N = Price.re.N,\n",
        "\t\t\t\t Agg.demand.re.tech_N = Agg.demand.re.tech.N,\n",
        "\t\t\t\t Profits.re_N = Profits.re.N,\n",
        "\t\t\t\t Yre_N = Yre.N,\n",
        "\t\t\t\t sre_N = sre.N,\n",
        "\t\t\t\t Labor.ce_N = Labor.ce.N,\n",
        "\t\t\t\t Price.ce_N = Price.ce.N,\n",
        "\t\t\t\t Agg.demand.ce.tech_N = Agg.demand.ce.tech.N,\n",
        "\t\t\t\t Profits.ce_N = Profits.ce.N,\n",
        "\t\t\t\t Yce_N = Yce.N,\n",
        "\t\t\t\t sce_N = sce.N,\n",
        "\t\t\t\t Y_N = Y.N,\n",
        "                 RelPrice_S = RelPrice.S,\n",
        "\t\t\t\t RelLabor_S = RelLabor.S,\n",
        "\t\t\t\t Labor.re_S = Labor.re.S,\n",
        "\t\t\t\t Price.re_S = Price.re.S,\n",
        "\t\t\t\t Agg.demand.re.tech_S = Agg.demand.re.tech.S,\n",
        "\t\t\t\t Profits.re_S = Profits.re.S,\n",
        "\t\t\t\t Yre_S = Yre.S,\n",
        "\t\t\t\t sre_S = sre.S,\n",
        "\t\t\t\t Labor.ce_S = Labor.ce.S,\n",
        "\t\t\t\t Price.ce_S = Price.ce.S,\n",
        "\t\t\t\t Agg.demand.ce.tech_S = Agg.demand.ce.tech.S,\n",
        "\t\t\t\t Profits.ce_S = Profits.ce.S,\n",
        "\t\t\t\t Yce_S = Yce.S,\n",
        "\t\t\t\t sce_S = sce.S,\n",
        "\t\t\t\t Y_S = Y.S,\n",
        "                 Delta.Temp = Delta.Temp,\n",
        "\t\t\t\t Gamma.re.t_N = Gamma.re.t.N,\n",
        "\t\t\t\t Gamma.re.t_S = Gamma.re.t.S,\n",
        "\t\t\t\t Gamma.ce.t_N = Gamma.ce.t.N,\n",
        "\t\t\t\t Gamma.ce.t_S = Gamma.ce.t.S,\n",
        "\t\t\t\t L_N = L.N,\n",
        "\t\t\t\t L_S = L.S,\n",
        "\t\t\t\t Consumption_N = Consumption.N,\n",
        "\t\t\t\t Consumption_S = Consumption.S,\n",
        "\t\t\t\t Utility.Consumer_N = Utility.Consumer.N,\n",
        "\t\t\t\t Utility.Consumer_S = Utility.Consumer.S,\n",
        "\t\t\t\t CO2.Concentration = CO2.Concentration,\n",
        "\t\t\t\t Cost.S.Damage=Cost.S.Damage,\n",
        "\t\t\t\t policy.status = policy.status,\n",
        "                 #Policy.Duration = policy.duration*EndTime,\n",
        "                 Policy.Start.Time = policy.start.time*EndTime,\n",
        "\t             ce.tax_N=ce.tax.N,\n",
        "\t\t\t\t RD.subsidy_N=RD.subsidy.N,\n",
        "\t\t\t\t RD.subsidy.GF_N=RD.subsidy.GF.N,\n",
        "\t\t\t\t Tec.subsidy_N=Tec.subsidy.N,\n",
        "\t\t\t\t Tec.subsidy.GF_N=Tec.subsidy.GF.N,\n",
        "\t\t\t\t ce.tax_S=ce.tax.S,\n",
        "\t\t\t\t RD.subsidy_S=(RD.subsidy.S-RD.subsidy.GF.N),\n",
        "\t\t\t\t Tec.subsidy_S=(Tec.subsidy.S-Tec.subsidy.GF.N),\n",
        "\t\t\t\t dS.lag=dS.lag,\n",
        "\t\t\t\t Budget.function.N = Budget.function.N,\n",
        "\t\t\t\t Budget.function.S = Budget.function.S)\n",
        "    return(vars.out)\n",
        "  })\n",
        "}\n",
        "#Model Solver\n",
        " #library(deSolve)\n",
        "  out <- as.data.frame(dede(InitialConditions, seq(0, EndTime, by = TimeStep), ModelEngine, Parameters))\n",
        "  out$Run.ID<-Run.ID\n",
        "  out$time<-out$time+2012\n",
        "  out$Policy.Duration<-sum(out$policy.status)*5.0\n",
        "  out$Budget.N<-sum(out$Budget.function.N)\n",
        "  out$Budget.S<-sum(out$Budget.function.S)\n",
        "\n",
        "#Use simulation output to estimate value of objective function\n",
        "\n",
        "out$Utility.Consumer.N<-ifelse(out$time<(EndTime*0.83),\n",
        "                                             ifelse(out$Cost.S.Damage==0,-100,(1+((out$Cost.S.Damage*out$Consumption.N)^(1-Parameters$sigma.utility))/(1-Parameters$sigma.utility))*(1/((1+Parameters$rho)^out$time))),\n",
        "                                   ifelse(out$Delta.Temp>=2.0,-100,(1+((out$Cost.S.Damage*out$Consumption.N)^(1-Parameters$sigma.utility))/(1-Parameters$sigma.utility))*(1/((1+Parameters$rho)^out$time))))\n",
        "out$Utility.Consumer.S<-ifelse(out$time<(EndTime*0.83),\n",
        "                                             ifelse(out$Cost.S.Damage==0,-100,(1+((out$Cost.S.Damage*out$Consumption.S)^(1-Parameters$sigma.utility))/(1-Parameters$sigma.utility))*(1/((1+Parameters$rho)^out$time))),\n",
        "                                             ifelse(out$Delta.Temp>=2.0,-100,(1+((out$Cost.S.Damage*out$Consumption.S)^(1-Parameters$sigma.utility))/(1-Parameters$sigma.utility))*(1/((1+Parameters$rho)^out$time))))\n",
        "\n",
        "\n",
        "\n",
        "#write results\n",
        "  write.csv(out, paste(params['dir.harness'], \"output_run_\",Run.ID,\".csv\", sep=\"\"), row.names=FALSE)\n",
        "  #Budget constraint\n",
        "  Budget.N<-sum(out$Budget.function.N)\n",
        "  Budget.S<-sum(out$Budget.function.S)\n",
        "  ifelse(Budget.N<0,-10000,\n",
        "          ifelse(Budget.S<0,-10000,\n",
        "                    1*(sum(as.numeric(out$Utility.Consumer_N))+sum(as.numeric(out$Utility.Consumer_S)))\n",
        "  \t\t\t\t\t))\n",
        "}\n"
      ],
      "metadata": {
        "id": "O0_QRf2lTqlM"
      },
      "execution_count": 23,
      "outputs": []
    },
    {
      "cell_type": "code",
      "source": [
        "# 📁 Define root único\n",
        "root <- \"/content/drive/MyDrive/BlogPostMacro/\"\n",
        "\n",
        "# 📦 Carga librerías\n",
        "library(snow)\n",
        "library(deSolve)\n",
        "library(optimx)\n",
        "library(reshape2)\n",
        "library(data.table)\n",
        "library(parallel)\n",
        "\n",
        "# 📂 Define directorios (todos en el mismo root)\n",
        "dir.exp.inputs <- root\n",
        "dir.model <- root\n",
        "dir.harness <- root\n",
        "dir.output <- root\n",
        "\n",
        "# 🔬 Fuente scripts necesarios\n",
        "source(paste0(dir.exp.inputs, \"create_experiment_function.r\"))\n",
        "source(paste0(dir.exp.inputs, \"harness_processing.r\"))\n"
      ],
      "metadata": {
        "id": "czt3LSPj1rK3"
      },
      "execution_count": 25,
      "outputs": []
    },
    {
      "cell_type": "code",
      "source": [
        "# Crea diseño experimental\n",
        "Exp.design <- exp.design.table(root, \"Limits_original.csv\", 300, \"Policies.csv\", Policy.Switch, \"Climate.csv\", Climate.Switch)\n",
        "write.csv(Exp.design, paste0(root, \"Exp.design.csv\"), row.names=FALSE)"
      ],
      "metadata": {
        "id": "DXEkj_PtVTBu"
      },
      "execution_count": 28,
      "outputs": []
    },
    {
      "cell_type": "code",
      "source": [
        "nCore <- detectCores() - 1\n",
        "cl <- makeCluster(nCore)\n",
        "\n",
        "clusterExport(cl, list(\"Exp.design\", \"TechChangeMod\", \"root\", \"optimx\"), envir=environment())\n",
        "\n",
        "clusterEvalQ(cl, {\n",
        "  library(deSolve)\n",
        "})"
      ],
      "metadata": {
        "colab": {
          "base_uri": "https://localhost:8080/",
          "height": 62
        },
        "id": "-YMOR6ObVoR8",
        "outputId": "ba0fb5d8-cd66-4f39-d8c8-63f3da1541ac"
      },
      "execution_count": 29,
      "outputs": [
        {
          "output_type": "display_data",
          "data": {
            "text/html": [
              "<ol>\n",
              "\t<li><style>\n",
              ".list-inline {list-style: none; margin:0; padding: 0}\n",
              ".list-inline>li {display: inline-block}\n",
              ".list-inline>li:not(:last-child)::after {content: \"\\00b7\"; padding: 0 .5ex}\n",
              "</style>\n",
              "<ol class=list-inline><li>'deSolve'</li><li>'stats'</li><li>'graphics'</li><li>'grDevices'</li><li>'utils'</li><li>'datasets'</li><li>'methods'</li><li>'base'</li></ol>\n",
              "</li>\n",
              "</ol>\n"
            ],
            "text/markdown": "1. 1. 'deSolve'\n2. 'stats'\n3. 'graphics'\n4. 'grDevices'\n5. 'utils'\n6. 'datasets'\n7. 'methods'\n8. 'base'\n\n\n\n\n\n",
            "text/latex": "\\begin{enumerate}\n\\item \\begin{enumerate*}\n\\item 'deSolve'\n\\item 'stats'\n\\item 'graphics'\n\\item 'grDevices'\n\\item 'utils'\n\\item 'datasets'\n\\item 'methods'\n\\item 'base'\n\\end{enumerate*}\n\n\\end{enumerate}\n",
            "text/plain": [
              "[[1]]\n",
              "[1] \"deSolve\"   \"stats\"     \"graphics\"  \"grDevices\" \"utils\"     \"datasets\" \n",
              "[7] \"methods\"   \"base\"     \n"
            ]
          },
          "metadata": {}
        }
      ]
    },
    {
      "cell_type": "code",
      "source": [
        "parLapply(cl, 1:nrow(Exp.design), function(i) {\n",
        "  x <- Exp.design[i, , drop=FALSE]  # <- cambio aquí\n",
        "  params <- as.list(x)\n",
        "\n",
        "  policies <- c(0.0, 0.0, 0.0, 0.0)\n",
        "\n",
        "  TechChangeMod(policies, params)\n",
        "})"
      ],
      "metadata": {
        "colab": {
          "base_uri": "https://localhost:8080/",
          "height": 367
        },
        "id": "Pp3SVgcZVr7U",
        "outputId": "fbef3e10-6df2-4e78-eeab-ca000ca4d212"
      },
      "execution_count": 36,
      "outputs": [
        {
          "output_type": "error",
          "ename": "ERROR",
          "evalue": "Error in checkForRemoteErrors(val): one node produced an error: $ operator is invalid for atomic vectors\n",
          "traceback": [
            "Error in checkForRemoteErrors(val): one node produced an error: $ operator is invalid for atomic vectors\nTraceback:\n",
            "1. do.call(c, clusterApply(cl = cl, x = splitList(X, nchunks), fun = lapply, \n .     FUN = fun, ...), quote = TRUE)",
            "2. clusterApply(cl = cl, x = splitList(X, nchunks), fun = lapply, \n .     FUN = fun, ...)",
            "3. staticClusterApply(cl, fun, length(x), argfun)",
            "4. checkForRemoteErrors(val)",
            "5. stop(\"one node produced an error: \", firstmsg, domain = NA)",
            "6. .handleSimpleError(function (cnd) \n . {\n .     watcher$capture_plot_and_output()\n .     cnd <- sanitize_call(cnd)\n .     watcher$push(cnd)\n .     switch(on_error, continue = invokeRestart(\"eval_continue\"), \n .         stop = invokeRestart(\"eval_stop\"), error = NULL)\n . }, \"one node produced an error: $ operator is invalid for atomic vectors\", \n .     base::quote(checkForRemoteErrors(val)))"
          ]
        }
      ]
    }
  ]
}